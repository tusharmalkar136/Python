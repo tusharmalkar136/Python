{
 "cells": [
  {
   "cell_type": "code",
   "execution_count": null,
   "id": "e989aa64",
   "metadata": {},
   "outputs": [],
   "source": [
    "1.Identifier Contain\n",
    "A-Z a-z 0-9"
   ]
  },
  {
   "cell_type": "code",
   "execution_count": 1,
   "id": "1047eca1",
   "metadata": {},
   "outputs": [],
   "source": [
    "pylist=100"
   ]
  },
  {
   "cell_type": "code",
   "execution_count": 2,
   "id": "ac6871d4",
   "metadata": {},
   "outputs": [
    {
     "data": {
      "text/plain": [
       "100"
      ]
     },
     "execution_count": 2,
     "metadata": {},
     "output_type": "execute_result"
    }
   ],
   "source": [
    "pylist"
   ]
  },
  {
   "cell_type": "code",
   "execution_count": 3,
   "id": "dd3a9d29",
   "metadata": {},
   "outputs": [],
   "source": [
    "pyList=200"
   ]
  },
  {
   "cell_type": "code",
   "execution_count": 4,
   "id": "f60000d6",
   "metadata": {},
   "outputs": [
    {
     "data": {
      "text/plain": [
       "200"
      ]
     },
     "execution_count": 4,
     "metadata": {},
     "output_type": "execute_result"
    }
   ],
   "source": [
    "pyList"
   ]
  },
  {
   "cell_type": "code",
   "execution_count": 5,
   "id": "93f8ccb5",
   "metadata": {},
   "outputs": [],
   "source": [
    "Aaab=500"
   ]
  },
  {
   "cell_type": "code",
   "execution_count": 6,
   "id": "e256cf43",
   "metadata": {},
   "outputs": [
    {
     "data": {
      "text/plain": [
       "500"
      ]
     },
     "execution_count": 6,
     "metadata": {},
     "output_type": "execute_result"
    }
   ],
   "source": [
    "Aaab"
   ]
  },
  {
   "cell_type": "code",
   "execution_count": 7,
   "id": "eb681c68",
   "metadata": {},
   "outputs": [],
   "source": [
    "py200=500"
   ]
  },
  {
   "cell_type": "code",
   "execution_count": 8,
   "id": "8662203c",
   "metadata": {},
   "outputs": [
    {
     "data": {
      "text/plain": [
       "500"
      ]
     },
     "execution_count": 8,
     "metadata": {},
     "output_type": "execute_result"
    }
   ],
   "source": [
    "py200"
   ]
  },
  {
   "cell_type": "code",
   "execution_count": 9,
   "id": "4da02baa",
   "metadata": {},
   "outputs": [],
   "source": [
    "a=200\n",
    "B=300"
   ]
  },
  {
   "cell_type": "code",
   "execution_count": 10,
   "id": "ae955461",
   "metadata": {},
   "outputs": [
    {
     "data": {
      "text/plain": [
       "200"
      ]
     },
     "execution_count": 10,
     "metadata": {},
     "output_type": "execute_result"
    }
   ],
   "source": [
    "a"
   ]
  },
  {
   "cell_type": "code",
   "execution_count": 11,
   "id": "1dec33d2",
   "metadata": {},
   "outputs": [
    {
     "data": {
      "text/plain": [
       "300"
      ]
     },
     "execution_count": 11,
     "metadata": {},
     "output_type": "execute_result"
    }
   ],
   "source": [
    "B"
   ]
  },
  {
   "cell_type": "code",
   "execution_count": 12,
   "id": "2fd8dfad",
   "metadata": {},
   "outputs": [],
   "source": [
    "#*2 No Identifier Start with number."
   ]
  },
  {
   "cell_type": "code",
   "execution_count": 13,
   "id": "6f8fa850",
   "metadata": {},
   "outputs": [
    {
     "ename": "SyntaxError",
     "evalue": "invalid syntax (Temp/ipykernel_9956/1789533898.py, line 1)",
     "output_type": "error",
     "traceback": [
      "\u001b[1;36m  File \u001b[1;32m\"C:\\Users\\TUSHAR\\AppData\\Local\\Temp/ipykernel_9956/1789533898.py\"\u001b[1;36m, line \u001b[1;32m1\u001b[0m\n\u001b[1;33m    100a = 500\u001b[0m\n\u001b[1;37m       ^\u001b[0m\n\u001b[1;31mSyntaxError\u001b[0m\u001b[1;31m:\u001b[0m invalid syntax\n"
     ]
    }
   ],
   "source": [
    "100a = 500"
   ]
  },
  {
   "cell_type": "code",
   "execution_count": 14,
   "id": "13864a62",
   "metadata": {},
   "outputs": [],
   "source": [
    "# RCA --> Root Cause Analysis"
   ]
  },
  {
   "cell_type": "code",
   "execution_count": 15,
   "id": "5d8d667a",
   "metadata": {},
   "outputs": [],
   "source": [
    "# Variale can have any length."
   ]
  },
  {
   "cell_type": "code",
   "execution_count": 16,
   "id": "58e7afe8",
   "metadata": {},
   "outputs": [],
   "source": [
    "xxxxxxxxxxxxxxxxxxxxxxx = 500"
   ]
  },
  {
   "cell_type": "code",
   "execution_count": 18,
   "id": "fc79aca2",
   "metadata": {},
   "outputs": [
    {
     "data": {
      "text/plain": [
       "500"
      ]
     },
     "execution_count": 18,
     "metadata": {},
     "output_type": "execute_result"
    }
   ],
   "source": [
    "xxxxxxxxxxxxxxxxxxxxxxx"
   ]
  },
  {
   "cell_type": "markdown",
   "id": "f0a515bb",
   "metadata": {},
   "source": [
    "  4 # _Special allowed."
   ]
  },
  {
   "cell_type": "code",
   "execution_count": 19,
   "id": "42b6cbb6",
   "metadata": {},
   "outputs": [
    {
     "ename": "SyntaxError",
     "evalue": "cannot assign to operator (Temp/ipykernel_9956/1716196073.py, line 1)",
     "output_type": "error",
     "traceback": [
      "\u001b[1;36m  File \u001b[1;32m\"C:\\Users\\TUSHAR\\AppData\\Local\\Temp/ipykernel_9956/1716196073.py\"\u001b[1;36m, line \u001b[1;32m1\u001b[0m\n\u001b[1;33m    pay@ment = 500\u001b[0m\n\u001b[1;37m    ^\u001b[0m\n\u001b[1;31mSyntaxError\u001b[0m\u001b[1;31m:\u001b[0m cannot assign to operator\n"
     ]
    }
   ],
   "source": [
    "pay@ment = 500\n"
   ]
  },
  {
   "cell_type": "code",
   "execution_count": 20,
   "id": "4e86f7c3",
   "metadata": {},
   "outputs": [],
   "source": [
    "_payment = 500"
   ]
  },
  {
   "cell_type": "code",
   "execution_count": 22,
   "id": "4e48112b",
   "metadata": {},
   "outputs": [
    {
     "data": {
      "text/plain": [
       "500"
      ]
     },
     "execution_count": 22,
     "metadata": {},
     "output_type": "execute_result"
    }
   ],
   "source": [
    "_payment"
   ]
  },
  {
   "cell_type": "code",
   "execution_count": 23,
   "id": "65cfdb51",
   "metadata": {},
   "outputs": [],
   "source": [
    "paymentCash = 1000"
   ]
  },
  {
   "cell_type": "code",
   "execution_count": 24,
   "id": "d0238d08",
   "metadata": {},
   "outputs": [
    {
     "data": {
      "text/plain": [
       "1000"
      ]
     },
     "execution_count": 24,
     "metadata": {},
     "output_type": "execute_result"
    }
   ],
   "source": [
    "paymentCash"
   ]
  },
  {
   "cell_type": "code",
   "execution_count": 25,
   "id": "f1fa377e",
   "metadata": {},
   "outputs": [],
   "source": [
    "payment_Cash = 200"
   ]
  },
  {
   "cell_type": "code",
   "execution_count": 26,
   "id": "fd5937f5",
   "metadata": {},
   "outputs": [
    {
     "data": {
      "text/plain": [
       "200"
      ]
     },
     "execution_count": 26,
     "metadata": {},
     "output_type": "execute_result"
    }
   ],
   "source": [
    "payment_Cash"
   ]
  },
  {
   "cell_type": "code",
   "execution_count": 27,
   "id": "7c88f28a",
   "metadata": {},
   "outputs": [],
   "source": [
    "payment_cash=100\n"
   ]
  },
  {
   "cell_type": "code",
   "execution_count": 29,
   "id": "b222c921",
   "metadata": {},
   "outputs": [
    {
     "data": {
      "text/plain": [
       "100"
      ]
     },
     "execution_count": 29,
     "metadata": {},
     "output_type": "execute_result"
    }
   ],
   "source": [
    "payment_cash"
   ]
  },
  {
   "cell_type": "code",
   "execution_count": null,
   "id": "265a0f52",
   "metadata": {},
   "outputs": [],
   "source": [
    "# 5 .we cant use keyword as a variable"
   ]
  },
  {
   "cell_type": "code",
   "execution_count": null,
   "id": "534e9ca0",
   "metadata": {},
   "outputs": [],
   "source": [
    "if\n",
    "for\n",
    "else\n",
    "break\n",
    "pass\n",
    "while\n"
   ]
  },
  {
   "cell_type": "code",
   "execution_count": 30,
   "id": "6fb2e1b9",
   "metadata": {},
   "outputs": [
    {
     "ename": "SyntaxError",
     "evalue": "invalid syntax (Temp/ipykernel_9956/3639298364.py, line 1)",
     "output_type": "error",
     "traceback": [
      "\u001b[1;36m  File \u001b[1;32m\"C:\\Users\\TUSHAR\\AppData\\Local\\Temp/ipykernel_9956/3639298364.py\"\u001b[1;36m, line \u001b[1;32m1\u001b[0m\n\u001b[1;33m    if =100\u001b[0m\n\u001b[1;37m       ^\u001b[0m\n\u001b[1;31mSyntaxError\u001b[0m\u001b[1;31m:\u001b[0m invalid syntax\n"
     ]
    }
   ],
   "source": [
    "if =100"
   ]
  },
  {
   "cell_type": "code",
   "execution_count": 31,
   "id": "4935da69",
   "metadata": {},
   "outputs": [],
   "source": [
    "import keyword"
   ]
  },
  {
   "cell_type": "code",
   "execution_count": 32,
   "id": "4174039f",
   "metadata": {},
   "outputs": [
    {
     "data": {
      "text/plain": [
       "['False',\n",
       " 'None',\n",
       " 'True',\n",
       " '__peg_parser__',\n",
       " 'and',\n",
       " 'as',\n",
       " 'assert',\n",
       " 'async',\n",
       " 'await',\n",
       " 'break',\n",
       " 'class',\n",
       " 'continue',\n",
       " 'def',\n",
       " 'del',\n",
       " 'elif',\n",
       " 'else',\n",
       " 'except',\n",
       " 'finally',\n",
       " 'for',\n",
       " 'from',\n",
       " 'global',\n",
       " 'if',\n",
       " 'import',\n",
       " 'in',\n",
       " 'is',\n",
       " 'lambda',\n",
       " 'nonlocal',\n",
       " 'not',\n",
       " 'or',\n",
       " 'pass',\n",
       " 'raise',\n",
       " 'return',\n",
       " 'try',\n",
       " 'while',\n",
       " 'with',\n",
       " 'yield']"
      ]
     },
     "execution_count": 32,
     "metadata": {},
     "output_type": "execute_result"
    }
   ],
   "source": [
    "keyword.kwlist"
   ]
  },
  {
   "cell_type": "code",
   "execution_count": null,
   "id": "5e5d589a",
   "metadata": {},
   "outputs": [],
   "source": [
    "# 1. What is variable\n",
    "2. cases\n",
    "3. rules\n",
    "4. a-z /A-Z,0-0 _\n",
    "5  never start with number\n",
    "6  any length variable we can create\n",
    "7. except _ other sperical character are not used\n",
    "8. we can use keyword as variable or identifier"
   ]
  },
  {
   "cell_type": "code",
   "execution_count": null,
   "id": "9ce0470e",
   "metadata": {},
   "outputs": [],
   "source": [
    "**** 2 Day Practice_ptyhon.."
   ]
  },
  {
   "cell_type": "code",
   "execution_count": 38,
   "id": "753a8d63",
   "metadata": {},
   "outputs": [],
   "source": [
    "## Data Type In python\n",
    "   int\n",
    "   float\n",
    "   str\n",
    "   bool\n",
    "   none\n",
    "   complex\n",
    "    "
   ]
  },
  {
   "cell_type": "code",
   "execution_count": 43,
   "id": "5302ed57",
   "metadata": {},
   "outputs": [],
   "source": [
    "# Data Structure\n",
    "#  list\n",
    "#  tuple\n",
    "#  set\n",
    "#  dict\n",
    "#  frozenset\n",
    "#  string\n",
    " "
   ]
  },
  {
   "cell_type": "code",
   "execution_count": 42,
   "id": "8e7cc922",
   "metadata": {},
   "outputs": [],
   "source": [
    "# int --> complete number without fraction or decimal point"
   ]
  },
  {
   "cell_type": "code",
   "execution_count": 44,
   "id": "21466752",
   "metadata": {},
   "outputs": [],
   "source": [
    "a=100"
   ]
  },
  {
   "cell_type": "code",
   "execution_count": 45,
   "id": "bca12737",
   "metadata": {},
   "outputs": [
    {
     "data": {
      "text/plain": [
       "int"
      ]
     },
     "execution_count": 45,
     "metadata": {},
     "output_type": "execute_result"
    }
   ],
   "source": [
    "type(a)"
   ]
  },
  {
   "cell_type": "code",
   "execution_count": 46,
   "id": "9070479f",
   "metadata": {},
   "outputs": [],
   "source": [
    "b=20.0"
   ]
  },
  {
   "cell_type": "code",
   "execution_count": 47,
   "id": "aa75ef32",
   "metadata": {},
   "outputs": [
    {
     "data": {
      "text/plain": [
       "float"
      ]
     },
     "execution_count": 47,
     "metadata": {},
     "output_type": "execute_result"
    }
   ],
   "source": [
    "type(b)"
   ]
  },
  {
   "cell_type": "code",
   "execution_count": 48,
   "id": "c1c1a795",
   "metadata": {},
   "outputs": [],
   "source": [
    "a = 'string'"
   ]
  },
  {
   "cell_type": "code",
   "execution_count": 49,
   "id": "6304bd7a",
   "metadata": {},
   "outputs": [
    {
     "data": {
      "text/plain": [
       "str"
      ]
     },
     "execution_count": 49,
     "metadata": {},
     "output_type": "execute_result"
    }
   ],
   "source": [
    "type(a)"
   ]
  },
  {
   "cell_type": "code",
   "execution_count": 50,
   "id": "a544ec5c",
   "metadata": {},
   "outputs": [],
   "source": [
    "# bool/boolean\n",
    "True=1\n",
    "False=0"
   ]
  },
  {
   "cell_type": "code",
   "execution_count": 51,
   "id": "85b57bd5",
   "metadata": {},
   "outputs": [
    {
     "data": {
      "text/plain": [
       "2"
      ]
     },
     "execution_count": 51,
     "metadata": {},
     "output_type": "execute_result"
    }
   ],
   "source": [
    "True+True"
   ]
  },
  {
   "cell_type": "code",
   "execution_count": 52,
   "id": "ee6e4888",
   "metadata": {},
   "outputs": [
    {
     "data": {
      "text/plain": [
       "1"
      ]
     },
     "execution_count": 52,
     "metadata": {},
     "output_type": "execute_result"
    }
   ],
   "source": [
    "True+False"
   ]
  },
  {
   "cell_type": "code",
   "execution_count": 53,
   "id": "a051f998",
   "metadata": {},
   "outputs": [],
   "source": [
    "a=20\n",
    "b=10"
   ]
  },
  {
   "cell_type": "code",
   "execution_count": 54,
   "id": "b3857227",
   "metadata": {},
   "outputs": [
    {
     "data": {
      "text/plain": [
       "True"
      ]
     },
     "execution_count": 54,
     "metadata": {},
     "output_type": "execute_result"
    }
   ],
   "source": [
    "a>b"
   ]
  },
  {
   "cell_type": "code",
   "execution_count": 55,
   "id": "8e209a24",
   "metadata": {},
   "outputs": [
    {
     "data": {
      "text/plain": [
       "False"
      ]
     },
     "execution_count": 55,
     "metadata": {},
     "output_type": "execute_result"
    }
   ],
   "source": [
    "b>a"
   ]
  },
  {
   "cell_type": "code",
   "execution_count": 59,
   "id": "2d3f6087",
   "metadata": {},
   "outputs": [],
   "source": [
    "# General Methods\n",
    "  type()-->to chech variable data type"
   ]
  },
  {
   "cell_type": "code",
   "execution_count": 60,
   "id": "b93d6e77",
   "metadata": {},
   "outputs": [],
   "source": [
    "a=None"
   ]
  },
  {
   "cell_type": "code",
   "execution_count": 63,
   "id": "e9c4de0f",
   "metadata": {},
   "outputs": [],
   "source": [
    "a"
   ]
  },
  {
   "cell_type": "code",
   "execution_count": 64,
   "id": "35315178",
   "metadata": {},
   "outputs": [],
   "source": [
    "temp = None"
   ]
  },
  {
   "cell_type": "code",
   "execution_count": 66,
   "id": "edad1d4e",
   "metadata": {},
   "outputs": [],
   "source": [
    "temp"
   ]
  },
  {
   "cell_type": "code",
   "execution_count": 62,
   "id": "2e077447",
   "metadata": {},
   "outputs": [
    {
     "data": {
      "text/plain": [
       "complex"
      ]
     },
     "execution_count": 62,
     "metadata": {},
     "output_type": "execute_result"
    }
   ],
   "source": [
    "complex"
   ]
  },
  {
   "cell_type": "code",
   "execution_count": 67,
   "id": "2fa04800",
   "metadata": {},
   "outputs": [
    {
     "name": "stdout",
     "output_type": "stream",
     "text": [
      "None\n"
     ]
    }
   ],
   "source": [
    "print(temp)"
   ]
  },
  {
   "cell_type": "code",
   "execution_count": 68,
   "id": "08361fad",
   "metadata": {},
   "outputs": [],
   "source": [
    "# complex"
   ]
  },
  {
   "cell_type": "code",
   "execution_count": 69,
   "id": "7baf0560",
   "metadata": {},
   "outputs": [
    {
     "data": {
      "text/plain": [
       "(1+2j)"
      ]
     },
     "execution_count": 69,
     "metadata": {},
     "output_type": "execute_result"
    }
   ],
   "source": [
    "1+2j"
   ]
  },
  {
   "cell_type": "code",
   "execution_count": 70,
   "id": "fadae4d7",
   "metadata": {},
   "outputs": [],
   "source": [
    "p=1+2j"
   ]
  },
  {
   "cell_type": "code",
   "execution_count": 71,
   "id": "fc212071",
   "metadata": {},
   "outputs": [
    {
     "data": {
      "text/plain": [
       "complex"
      ]
     },
     "execution_count": 71,
     "metadata": {},
     "output_type": "execute_result"
    }
   ],
   "source": [
    "type(p)"
   ]
  },
  {
   "cell_type": "code",
   "execution_count": 72,
   "id": "32e08b5d",
   "metadata": {},
   "outputs": [],
   "source": [
    "str = 'abcd123'"
   ]
  },
  {
   "cell_type": "code",
   "execution_count": 73,
   "id": "de62bc0a",
   "metadata": {},
   "outputs": [
    {
     "data": {
      "text/plain": [
       "'abcd123'"
      ]
     },
     "execution_count": 73,
     "metadata": {},
     "output_type": "execute_result"
    }
   ],
   "source": [
    "str"
   ]
  },
  {
   "cell_type": "code",
   "execution_count": 74,
   "id": "18bb7427",
   "metadata": {},
   "outputs": [
    {
     "data": {
      "text/plain": [
       "str"
      ]
     },
     "execution_count": 74,
     "metadata": {},
     "output_type": "execute_result"
    }
   ],
   "source": [
    "type(str)"
   ]
  },
  {
   "cell_type": "code",
   "execution_count": 75,
   "id": "8a79cc5d",
   "metadata": {},
   "outputs": [
    {
     "data": {
      "text/plain": [
       "'\\n'"
      ]
     },
     "execution_count": 75,
     "metadata": {},
     "output_type": "execute_result"
    }
   ],
   "source": [
    "''\n",
    "\" \"\n",
    "'''\n",
    "'''"
   ]
  },
  {
   "cell_type": "code",
   "execution_count": 87,
   "id": "1b8be393",
   "metadata": {},
   "outputs": [],
   "source": [
    "a=10\n",
    "b=10\n",
    "c=10"
   ]
  },
  {
   "cell_type": "code",
   "execution_count": 88,
   "id": "0c0dc8e2",
   "metadata": {},
   "outputs": [
    {
     "data": {
      "text/plain": [
       "2489621965392"
      ]
     },
     "execution_count": 88,
     "metadata": {},
     "output_type": "execute_result"
    }
   ],
   "source": [
    "id(a)"
   ]
  },
  {
   "cell_type": "code",
   "execution_count": 89,
   "id": "012e6b28",
   "metadata": {},
   "outputs": [
    {
     "data": {
      "text/plain": [
       "2489621965392"
      ]
     },
     "execution_count": 89,
     "metadata": {},
     "output_type": "execute_result"
    }
   ],
   "source": [
    "id(b)"
   ]
  },
  {
   "cell_type": "code",
   "execution_count": 90,
   "id": "b7b8b828",
   "metadata": {},
   "outputs": [
    {
     "data": {
      "text/plain": [
       "2489621965392"
      ]
     },
     "execution_count": 90,
     "metadata": {},
     "output_type": "execute_result"
    }
   ],
   "source": [
    "id(c)"
   ]
  },
  {
   "cell_type": "code",
   "execution_count": 80,
   "id": "f5c84deb",
   "metadata": {},
   "outputs": [],
   "source": [
    "A = 10"
   ]
  },
  {
   "cell_type": "code",
   "execution_count": 81,
   "id": "ee5acb37",
   "metadata": {},
   "outputs": [],
   "source": [
    "B = 20"
   ]
  },
  {
   "cell_type": "code",
   "execution_count": 82,
   "id": "8ef42544",
   "metadata": {},
   "outputs": [],
   "source": [
    "C= 30"
   ]
  },
  {
   "cell_type": "code",
   "execution_count": 91,
   "id": "3fa1f5d9",
   "metadata": {},
   "outputs": [
    {
     "data": {
      "text/plain": [
       "2489621965392"
      ]
     },
     "execution_count": 91,
     "metadata": {},
     "output_type": "execute_result"
    }
   ],
   "source": [
    "id(A)"
   ]
  },
  {
   "cell_type": "code",
   "execution_count": 92,
   "id": "dc1ba122",
   "metadata": {},
   "outputs": [
    {
     "data": {
      "text/plain": [
       "2489621965712"
      ]
     },
     "execution_count": 92,
     "metadata": {},
     "output_type": "execute_result"
    }
   ],
   "source": [
    "id(B)"
   ]
  },
  {
   "cell_type": "code",
   "execution_count": 93,
   "id": "80507a6d",
   "metadata": {},
   "outputs": [
    {
     "data": {
      "text/plain": [
       "2489621966032"
      ]
     },
     "execution_count": 93,
     "metadata": {},
     "output_type": "execute_result"
    }
   ],
   "source": [
    "id(C)"
   ]
  },
  {
   "cell_type": "code",
   "execution_count": 95,
   "id": "0e35bb3e",
   "metadata": {},
   "outputs": [],
   "source": [
    "# type()\n",
    "  type(id)-->to check variable memory location"
   ]
  },
  {
   "cell_type": "code",
   "execution_count": 97,
   "id": "63f7916c",
   "metadata": {},
   "outputs": [],
   "source": [
    "# Compiler (Checking)  /or -- interpreter(excution unit) "
   ]
  },
  {
   "cell_type": "code",
   "execution_count": 98,
   "id": "eea06f5f",
   "metadata": {},
   "outputs": [],
   "source": [
    "#  Data Structure\n",
    "1.List\n",
    "2.Tuple\n",
    "3.Set\n",
    "4.Dict\n",
    "5.Frozenset\n",
    "6.string"
   ]
  },
  {
   "cell_type": "code",
   "execution_count": null,
   "id": "35f1c018",
   "metadata": {},
   "outputs": [],
   "source": [
    "#List\n",
    "\n",
    " list is mutable type in DS.\n",
    " it is collection of element\n",
    " similar or different type of element\n",
    " similar --> Homogeneous\n",
    " different-->Hetrogeneous\n",
    " we can denoted it--[]\n",
    " it is odered type\n",
    " it based index is always 0.\n",
    " list can have duplicate element.\n",
    "\n",
    " "
   ]
  }
 ],
 "metadata": {
  "kernelspec": {
   "display_name": "Python 3 (ipykernel)",
   "language": "python",
   "name": "python3"
  },
  "language_info": {
   "codemirror_mode": {
    "name": "ipython",
    "version": 3
   },
   "file_extension": ".py",
   "mimetype": "text/x-python",
   "name": "python",
   "nbconvert_exporter": "python",
   "pygments_lexer": "ipython3",
   "version": "3.9.7"
  }
 },
 "nbformat": 4,
 "nbformat_minor": 5
}
